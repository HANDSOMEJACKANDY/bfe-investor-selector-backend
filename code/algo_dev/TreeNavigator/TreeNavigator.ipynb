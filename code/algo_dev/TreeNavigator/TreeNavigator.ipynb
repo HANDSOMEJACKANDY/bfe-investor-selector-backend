{
 "cells": [
  {
   "cell_type": "code",
   "execution_count": 15,
   "metadata": {},
   "outputs": [],
   "source": [
    "from anytree import Node, RenderTree\n",
    "file_name = \"sectors.txt\"\n",
    "name2node = {}\n",
    "root = Node(\"root\")\n",
    "name2node[\"root\"] = root\n",
    "with open(file_name, \"r\") as f:\n",
    "    lines = f.readlines()\n",
    "    for line in lines:\n",
    "        if line[0] not in (\"\\t\", \"\\n\"):\n",
    "            line = line.replace(\"\\t\", \"\")\n",
    "            key = line.replace(\"\\n\", \"\")\n",
    "            parent_node = Node(key.strip(), parent=root)\n",
    "            name2node[key.strip()] = parent_node\n",
    "        elif line[0] == \"\\t\":\n",
    "            line = line.replace(\"\\t\", \"\")\n",
    "            line = line.replace(\"\\n\", \"\")\n",
    "            items = line.split(\", \")\n",
    "            for i in items:\n",
    "                child_node = Node(i.strip(), parent=parent_node)\n",
    "                name2node[i.strip()] = child_node\n",
    "        else:\n",
    "            pass"
   ]
  },
  {
   "cell_type": "code",
   "execution_count": null,
   "metadata": {},
   "outputs": [],
   "source": [
    "parent_node."
   ]
  },
  {
   "cell_type": "code",
   "execution_count": 20,
   "metadata": {},
   "outputs": [
    {
     "data": {
      "text/plain": [
       "<generator object NodeMixin.iter_path_reverse at 0x7fa61829c200>"
      ]
     },
     "execution_count": 20,
     "metadata": {},
     "output_type": "execute_result"
    }
   ],
   "source": [
    "name2node[\"sustainable agriculture\"].iter_path_reverse()"
   ]
  },
  {
   "cell_type": "code",
   "execution_count": 66,
   "metadata": {},
   "outputs": [],
   "source": [
    "class TreeNavigator():\n",
    "    def __init__(self, file_name):\n",
    "        with open(file_name) as f:\n",
    "            # create tree\n",
    "            self.name2node = {}\n",
    "            root = Node(\"root\")\n",
    "            self.name2node[\"root\"] = root\n",
    "            with open(file_name, \"r\") as f:\n",
    "                lines = f.readlines()\n",
    "                for line in lines:\n",
    "                    if line[0] not in (\"\\t\", \"\\n\"):\n",
    "                        line = line.replace(\"\\t\", \"\")\n",
    "                        key = line.replace(\"\\n\", \"\")\n",
    "                        parent_node = Node(key.strip().lower(), parent=root)\n",
    "                        self.name2node[key.strip().lower()] = parent_node\n",
    "                    elif line[0] == \"\\t\":\n",
    "                        line = line.replace(\"\\t\", \"\")\n",
    "                        line = line.replace(\"\\n\", \"\")\n",
    "                        items = line.split(\", \")\n",
    "                        for i in items:\n",
    "                            child_node = Node(i.strip().lower(), parent=parent_node)\n",
    "                            self.name2node[i.strip().lower()] = child_node\n",
    "                    else:\n",
    "                        pass\n",
    "    \n",
    "    def __str__(self):\n",
    "        return \"\\n\".join(list(self.name2node.keys())[1:])\n",
    "            \n",
    "    def find_node(self, node_name):\n",
    "        try:\n",
    "            return [node.name for node in self.name2node[node_name].iter_path_reverse() if node.name != \"root\"]\n",
    "        except:\n",
    "            raise ValueError(\"Unknown node name!\")"
   ]
  },
  {
   "cell_type": "code",
   "execution_count": 67,
   "metadata": {},
   "outputs": [
    {
     "data": {
      "text/plain": [
       "['sustainable agriculture', 'agriculture']"
      ]
     },
     "execution_count": 67,
     "metadata": {},
     "output_type": "execute_result"
    }
   ],
   "source": [
    "sector_tree = TreeNavigator(\"sectors.txt\")\n",
    "sector_tree.find_node(\"sustainable agriculture\")"
   ]
  },
  {
   "cell_type": "code",
   "execution_count": 69,
   "metadata": {},
   "outputs": [
    {
     "data": {
      "text/plain": [
       "['algeria', 'middle east and north africa']"
      ]
     },
     "execution_count": 69,
     "metadata": {},
     "output_type": "execute_result"
    }
   ],
   "source": [
    "region_tree = TreeNavigator(\"regions.txt\")\n",
    "region_tree.find_node(\"algeria\")"
   ]
  },
  {
   "cell_type": "code",
   "execution_count": null,
   "metadata": {},
   "outputs": [],
   "source": []
  }
 ],
 "metadata": {
  "kernelspec": {
   "display_name": "ml",
   "language": "python",
   "name": "ml"
  },
  "language_info": {
   "codemirror_mode": {
    "name": "ipython",
    "version": 3
   },
   "file_extension": ".py",
   "mimetype": "text/x-python",
   "name": "python",
   "nbconvert_exporter": "python",
   "pygments_lexer": "ipython3",
   "version": "3.8.3"
  }
 },
 "nbformat": 4,
 "nbformat_minor": 4
}
