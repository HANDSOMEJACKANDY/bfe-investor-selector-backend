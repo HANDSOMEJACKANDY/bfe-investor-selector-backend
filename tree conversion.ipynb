{
 "cells": [
  {
   "cell_type": "code",
   "execution_count": 46,
   "metadata": {
    "collapsed": true
   },
   "outputs": [],
   "source": [
    "import json"
   ]
  },
  {
   "cell_type": "code",
   "execution_count": 47,
   "metadata": {
    "collapsed": true
   },
   "outputs": [],
   "source": [
    "sector_dict = {}\n",
    "with open(\"sectors.txt\", \"r\") as f:\n",
    "    lines = f.readlines()\n",
    "    for line in lines:\n",
    "        if line[0] not in (\"\\t\", \"\\n\"):\n",
    "            line = line.replace(\"\\t\", \"\")\n",
    "            key = line.replace(\"\\n\", \"\")\n",
    "            sector_dict[key.strip()] = {}\n",
    "        elif line[0] == \"\\t\":\n",
    "            line = line.replace(\"\\t\", \"\")\n",
    "            line = line.replace(\"\\n\", \"\")\n",
    "            items = line.split(\", \")\n",
    "            for i in items:\n",
    "                sector_dict[key.strip()][i.strip()] = {}\n",
    "        else:\n",
    "            pass"
   ]
  },
  {
   "cell_type": "code",
   "execution_count": 48,
   "metadata": {
    "collapsed": true
   },
   "outputs": [],
   "source": [
    "with open(\"sectors.json\", \"w\") as f:\n",
    "    json.dump(sector_dict, f)"
   ]
  },
  {
   "cell_type": "code",
   "execution_count": 49,
   "metadata": {
    "collapsed": true
   },
   "outputs": [],
   "source": [
    "region_dict = {}\n",
    "with open(\"regions.txt\", \"r\") as f:\n",
    "    lines = f.readlines()\n",
    "    for line in lines:\n",
    "        if line[0] not in (\"\\t\", \"\\n\"):\n",
    "            line = line.replace(\"\\t\", \"\")\n",
    "            key_1 = line.replace(\"\\n\", \"\")\n",
    "            region_dict[key_1.strip()] = {}\n",
    "        elif line[0:2] != \"\\t\\t\" and line[0] == \"\\t\":\n",
    "            line = line.replace(\"\\t\", \"\")\n",
    "            line = line.replace(\"\\n\", \"\")\n",
    "            if \",\" not in line:\n",
    "                key_2 = line\n",
    "                region_dict[key_1.strip()][key_2.strip()] = {}\n",
    "            else:\n",
    "                items = line.split(\", \")\n",
    "                for key_2 in items:\n",
    "                    region_dict[key_1.strip()][key_2.strip()] = {}\n",
    "        elif line[0:2] == \"\\t\\t\":\n",
    "            line = line.replace(\"\\t\", \"\")\n",
    "            line = line.replace(\"\\n\", \"\")\n",
    "            items = line.split(\", \")\n",
    "            for i in items:\n",
    "                region_dict[key_1.strip()][key_2.strip()][i.strip()] = {}\n",
    "        else:\n",
    "            pass"
   ]
  },
  {
   "cell_type": "code",
   "execution_count": 50,
   "metadata": {
    "collapsed": true
   },
   "outputs": [],
   "source": [
    "with open(\"regions.json\", \"w\") as f:\n",
    "    json.dump(region_dict, f)"
   ]
  },
  {
   "cell_type": "code",
   "execution_count": null,
   "metadata": {
    "collapsed": true
   },
   "outputs": [],
   "source": []
  }
 ],
 "metadata": {
  "kernelspec": {
   "display_name": "tensorflow",
   "language": "python",
   "name": "tensorflow"
  },
  "language_info": {
   "codemirror_mode": {
    "name": "ipython",
    "version": 3
   },
   "file_extension": ".py",
   "mimetype": "text/x-python",
   "name": "python",
   "nbconvert_exporter": "python",
   "pygments_lexer": "ipython3",
   "version": "3.5.4"
  }
 },
 "nbformat": 4,
 "nbformat_minor": 2
}
